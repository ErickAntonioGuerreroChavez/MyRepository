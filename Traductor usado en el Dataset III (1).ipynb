{
 "cells": [
  {
   "cell_type": "markdown",
   "metadata": {
    "id": "EJgmbX_ZBJbE"
   },
   "source": [
    "Googletrans utiliza la API Ajax de Google Translate para la detección y \n",
    "\n",
    "*   List item\n",
    "*   List item\n",
    "\n",
    "traducción de idiomas.\n",
    "\n",
    "Los parámetros clave para el método translate () son:\n",
    "\n",
    "src: idioma de origen. este parámetro es opcional ya que googletrans lo detectará.\n",
    "\n",
    "dest: idioma de destino. Parámetro obligatorio.\n",
    "\n",
    "text: el texto que se va a traducir del idioma de origen al idioma de destino. Parámetro obligatorio.\n",
    "\n",
    "Al utilizar este metodo lo que ocurre es una retraduccion, pasamos del idioma original a un idioma destino y luego regresamos al original, durante esta retrotraducción, hay un ligero cambio en la oración entre el texto original y el texto retrotraducido, pero el significado general de la oración aún se conserva.\n",
    "\n",
    "Los idiomas soportados se pueden consultar en https://cloud.google.com/translate/docs/languages?hl=es\n",
    "\n",
    "Para obtener los mejores resultados se recomienda hacer algunas pruebas con los idiomas, si el lenguaje destino es muy similar la traduccion no pierde informacion, sin embargo se puede tener el problema de que la traduccion sea demasiado literal, esto se vuelve un poco un problema de prueba y error.\n",
    "\n",
    "Algunos ejemplos de idiomas:\n",
    "\n",
    "Afrikáans 'af'\n",
    "\n",
    "Chino (simplificado) 'zh-CN o zh'\n",
    "\n",
    "Esperanto 'eo'\n",
    "\n",
    "Japonés 'ja'\n",
    "\n",
    "Latín 'la'\n",
    "\n",
    "Español 'es'\n",
    "Turcomano 'tk'\n",
    "Yiddish 'yi'\n",
    "\n",
    "Zulú 'zu'"
   ]
  },
  {
   "cell_type": "code",
   "execution_count": 7,
   "metadata": {
    "colab": {
     "base_uri": "https://localhost:8080/",
     "height": 292
    },
    "id": "gJAgqngjApPl",
    "jupyter": {
     "source_hidden": true
    },
    "outputId": "b17d55aa-363f-4cfc-e00e-1bfb1e025983"
   },
   "outputs": [
    {
     "name": "stdout",
     "output_type": "stream",
     "text": [
      "Requirement already satisfied: googletrans in c:\\users\\wille\\anaconda3\\lib\\site-packages (3.0.0)\n",
      "Requirement already satisfied: httpx==0.13.3 in c:\\users\\wille\\anaconda3\\lib\\site-packages (from googletrans) (0.13.3)\n",
      "Requirement already satisfied: chardet==3.* in c:\\users\\wille\\anaconda3\\lib\\site-packages (from httpx==0.13.3->googletrans) (3.0.4)\n",
      "Requirement already satisfied: idna==2.* in c:\\users\\wille\\anaconda3\\lib\\site-packages (from httpx==0.13.3->googletrans) (2.10)\n",
      "Requirement already satisfied: hstspreload in c:\\users\\wille\\anaconda3\\lib\\site-packages (from httpx==0.13.3->googletrans) (2020.10.20)\n",
      "Requirement already satisfied: sniffio in c:\\users\\wille\\anaconda3\\lib\\site-packages (from httpx==0.13.3->googletrans) (1.2.0)\n",
      "Requirement already satisfied: httpcore==0.9.* in c:\\users\\wille\\anaconda3\\lib\\site-packages (from httpx==0.13.3->googletrans) (0.9.1)\n",
      "Requirement already satisfied: certifi in c:\\users\\wille\\anaconda3\\lib\\site-packages (from httpx==0.13.3->googletrans) (2020.6.20)\n",
      "Requirement already satisfied: rfc3986<2,>=1.3 in c:\\users\\wille\\anaconda3\\lib\\site-packages (from httpx==0.13.3->googletrans) (1.4.0)\n",
      "Requirement already satisfied: h2==3.* in c:\\users\\wille\\anaconda3\\lib\\site-packages (from httpcore==0.9.*->httpx==0.13.3->googletrans) (3.2.0)\n",
      "Requirement already satisfied: h11<0.10,>=0.8 in c:\\users\\wille\\anaconda3\\lib\\site-packages (from httpcore==0.9.*->httpx==0.13.3->googletrans) (0.9.0)\n",
      "Requirement already satisfied: hyperframe<6,>=5.2.0 in c:\\users\\wille\\anaconda3\\lib\\site-packages (from h2==3.*->httpcore==0.9.*->httpx==0.13.3->googletrans) (5.2.0)\n",
      "Requirement already satisfied: hpack<4,>=3.0 in c:\\users\\wille\\anaconda3\\lib\\site-packages (from h2==3.*->httpcore==0.9.*->httpx==0.13.3->googletrans) (3.0.0)\n"
     ]
    }
   ],
   "source": [
    "!pip install googletrans"
   ]
  },
  {
   "cell_type": "code",
   "execution_count": 8,
   "metadata": {
    "id": "urrNgmSXA0Z8"
   },
   "outputs": [],
   "source": [
    "from googletrans import Translator\n",
    "abc = Translator()"
   ]
  },
  {
   "cell_type": "code",
   "execution_count": 160,
   "metadata": {
    "colab": {
     "base_uri": "https://localhost:8080/",
     "height": 68
    },
    "id": "qvKKpqrfBU2M",
    "outputId": "9a11f8df-3b02-4bd4-9213-a0ced677ce9c"
   },
   "outputs": [
    {
     "name": "stdout",
     "output_type": "stream",
     "text": [
      "¿Puedo simplificar aun más mi respuesta?\n",
      "Kan ek my antwoord nog meer vereenvoudig?\n",
      "¿Puedo simplificar aún más mi respuesta?\n"
     ]
    }
   ],
   "source": [
    "text_org=\"¿Puedo simplificar aun más mi respuesta?\"\n",
    "text_trans = abc.translate(text=text_org, dest='af').text\n",
    "final=abc.translate(text=text_trans, dest='es').text\n",
    "print(text_org)\n",
    "print(text_trans)\n",
    "print(final)"
   ]
  },
  {
   "cell_type": "code",
   "execution_count": 161,
   "metadata": {
    "id": "wSMi_NIVWjkq"
   },
   "outputs": [
    {
     "name": "stdout",
     "output_type": "stream",
     "text": [
      "¿Puedo simplificar aun más mi respuesta?\n",
      "هل يمكنني تبسيط إجابتي أكثر؟\n",
      "¿Se puede simplificar aún más mi respuesta?\n"
     ]
    }
   ],
   "source": [
    "text_org=\"¿Puedo simplificar aun más mi respuesta?\"\n",
    "text_trans = abc.translate(text=text_org, dest='ar').text\n",
    "final=abc.translate(text=text_trans, dest='es').text\n",
    "print(text_org)\n",
    "print(text_trans)\n",
    "print(final)"
   ]
  },
  {
   "cell_type": "code",
   "execution_count": 162,
   "metadata": {},
   "outputs": [
    {
     "name": "stdout",
     "output_type": "stream",
     "text": [
      "¿Puedo simplificar aun más mi respuesta?\n",
      "መልሴን የበለጠ ቀለል ማድረግ እችላለሁን?\n",
      "¿Puedo facilitar mi respuesta?\n"
     ]
    }
   ],
   "source": [
    "text_org=\"¿Puedo simplificar aun más mi respuesta?\"\n",
    "text_trans = abc.translate(text=text_org, dest='am').text\n",
    "final=abc.translate(text=text_trans, dest='es').text\n",
    "print(text_org)\n",
    "print(text_trans)\n",
    "print(final)"
   ]
  },
  {
   "cell_type": "code",
   "execution_count": 163,
   "metadata": {},
   "outputs": [
    {
     "name": "stdout",
     "output_type": "stream",
     "text": [
      "¿Puedo simplificar aun más mi respuesta?\n",
      "Կարո՞ղ եմ էլ ավելի պարզեցնել պատասխանս:\n",
      "¿Puedo simplificar mi respuesta?\n"
     ]
    }
   ],
   "source": [
    "text_org=\"¿Puedo simplificar aun más mi respuesta?\"\n",
    "text_trans = abc.translate(text=text_org, dest='hy').text\n",
    "final=abc.translate(text=text_trans, dest='es').text\n",
    "print(text_org)\n",
    "print(text_trans)\n",
    "print(final)"
   ]
  },
  {
   "cell_type": "code",
   "execution_count": 164,
   "metadata": {},
   "outputs": [
    {
     "name": "stdout",
     "output_type": "stream",
     "text": [
      "¿Puedo simplificar aun más mi respuesta?\n",
      "Cavabımı daha da sadələşdirə bilərəmmi?\n",
      "¿Puedo simplificar aún más mi respuesta?\n"
     ]
    }
   ],
   "source": [
    "text_org=\"¿Puedo simplificar aun más mi respuesta?\"\n",
    "text_trans = abc.translate(text=text_org, dest='az').text\n",
    "final=abc.translate(text=text_trans, dest='es').text\n",
    "print(text_org)\n",
    "print(text_trans)\n",
    "print(final)"
   ]
  },
  {
   "cell_type": "code",
   "execution_count": 165,
   "metadata": {},
   "outputs": [
    {
     "name": "stdout",
     "output_type": "stream",
     "text": [
      "¿Puedo simplificar aun más mi respuesta?\n",
      "Nire erantzuna are gehiago sinplifikatu al dezaket?\n",
      "¿Puedo simplificar aún más mi respuesta?\n"
     ]
    }
   ],
   "source": [
    "text_org=\"¿Puedo simplificar aun más mi respuesta?\"\n",
    "text_trans = abc.translate(text=text_org, dest='eu').text\n",
    "final=abc.translate(text=text_trans, dest='es').text\n",
    "print(text_org)\n",
    "print(text_trans)\n",
    "print(final)"
   ]
  },
  {
   "cell_type": "code",
   "execution_count": 166,
   "metadata": {},
   "outputs": [
    {
     "name": "stdout",
     "output_type": "stream",
     "text": [
      "¿Puedo simplificar aun más mi respuesta?\n",
      "Ці магу я яшчэ больш спрасціць свой адказ?\n",
      "¿Puedo simplificar aún más mi respuesta?\n"
     ]
    }
   ],
   "source": [
    "text_org=\"¿Puedo simplificar aun más mi respuesta?\"\n",
    "text_trans = abc.translate(text=text_org, dest='be').text\n",
    "final=abc.translate(text=text_trans, dest='es').text\n",
    "print(text_org)\n",
    "print(text_trans)\n",
    "print(final)"
   ]
  },
  {
   "cell_type": "code",
   "execution_count": 167,
   "metadata": {},
   "outputs": [
    {
     "name": "stdout",
     "output_type": "stream",
     "text": [
      "¿Puedo simplificar aun más mi respuesta?\n",
      "আমি কি আমার উত্তর আরও সহজ করতে পারি?\n",
      "¿Puedo facilitar mi respuesta?\n"
     ]
    }
   ],
   "source": [
    "text_org=\"¿Puedo simplificar aun más mi respuesta?\"\n",
    "text_trans = abc.translate(text=text_org, dest='bn').text\n",
    "final=abc.translate(text=text_trans, dest='es').text\n",
    "print(text_org)\n",
    "print(text_trans)\n",
    "print(final)"
   ]
  },
  {
   "cell_type": "code",
   "execution_count": 168,
   "metadata": {},
   "outputs": [
    {
     "name": "stdout",
     "output_type": "stream",
     "text": [
      "¿Puedo simplificar aun más mi respuesta?\n",
      "Mogu li još više pojednostaviti svoj odgovor?\n",
      "¿Puedo simplificar aún más mi respuesta?\n"
     ]
    }
   ],
   "source": [
    "text_org=\"¿Puedo simplificar aun más mi respuesta?\"\n",
    "text_trans = abc.translate(text=text_org, dest='bs').text\n",
    "final=abc.translate(text=text_trans, dest='es').text\n",
    "print(text_org)\n",
    "print(text_trans)\n",
    "print(final)"
   ]
  },
  {
   "cell_type": "code",
   "execution_count": 169,
   "metadata": {},
   "outputs": [
    {
     "name": "stdout",
     "output_type": "stream",
     "text": [
      "¿Puedo simplificar aun más mi respuesta?\n",
      "Мога ли да опростя отговора си още повече?\n",
      "¿Puedo simplificar aún más mi respuesta?\n"
     ]
    }
   ],
   "source": [
    "text_org=\"¿Puedo simplificar aun más mi respuesta?\"\n",
    "text_trans = abc.translate(text=text_org, dest='bg').text\n",
    "final=abc.translate(text=text_trans, dest='es').text\n",
    "print(text_org)\n",
    "print(text_trans)\n",
    "print(final)"
   ]
  },
  {
   "cell_type": "code",
   "execution_count": 149,
   "metadata": {},
   "outputs": [
    {
     "name": "stdout",
     "output_type": "stream",
     "text": [
      "¿Puedo simplificar aun más mi respuesta?\n",
      "Mahimo ba nako nga labi kaayon ang akong tubag?\n",
      "¿Puedo obtener una mejor respuesta?\n"
     ]
    }
   ],
   "source": [
    "text_org=\"¿Puedo simplificar aun más mi respuesta?\"\n",
    "text_trans = abc.translate(text=text_org, dest='ceb').text\n",
    "final=abc.translate(text=text_trans, dest='es').text\n",
    "print(text_org)\n",
    "print(text_trans)\n",
    "print(final)"
   ]
  },
  {
   "cell_type": "code",
   "execution_count": 150,
   "metadata": {},
   "outputs": [
    {
     "name": "stdout",
     "output_type": "stream",
     "text": [
      "¿Puedo simplificar aun más mi respuesta?\n",
      "答えをさらに単純化できますか？\n",
      "¿Se puede simplificar aún más la respuesta?\n"
     ]
    }
   ],
   "source": [
    "text_org=\"¿Puedo simplificar aun más mi respuesta?\"\n",
    "text_trans = abc.translate(text=text_org, dest='ja').text\n",
    "final=abc.translate(text=text_trans, dest='es').text\n",
    "print(text_org)\n",
    "print(text_trans)\n",
    "print(final)"
   ]
  },
  {
   "cell_type": "code",
   "execution_count": 151,
   "metadata": {},
   "outputs": [
    {
     "name": "stdout",
     "output_type": "stream",
     "text": [
      "¿Puedo simplificar aun más mi respuesta?\n",
      "آیا می توانم پاسخ خود را حتی بیشتر ساده کنم؟\n",
      "¿Puedo simplificar aún más mi respuesta?\n"
     ]
    }
   ],
   "source": [
    "text_org=\"¿Puedo simplificar aun más mi respuesta?\"\n",
    "text_trans = abc.translate(text=text_org, dest='fa').text\n",
    "final=abc.translate(text=text_trans, dest='es').text\n",
    "print(text_org)\n",
    "print(text_trans)\n",
    "print(final)"
   ]
  },
  {
   "cell_type": "code",
   "execution_count": 152,
   "metadata": {},
   "outputs": [
    {
     "name": "stdout",
     "output_type": "stream",
     "text": [
      "¿Puedo simplificar aun más mi respuesta?\n",
      "Czy mogę jeszcze bardziej uprościć swoją odpowiedź?\n",
      "¿Puedo simplificar aún más mi respuesta?\n"
     ]
    }
   ],
   "source": [
    "text_org=\"¿Puedo simplificar aun más mi respuesta?\"\n",
    "text_trans = abc.translate(text=text_org, dest='pl').text\n",
    "final=abc.translate(text=text_trans, dest='es').text\n",
    "print(text_org)\n",
    "print(text_trans)\n",
    "print(final)"
   ]
  },
  {
   "cell_type": "code",
   "execution_count": 153,
   "metadata": {},
   "outputs": [
    {
     "name": "stdout",
     "output_type": "stream",
     "text": [
      "¿Puedo simplificar aun más mi respuesta?\n",
      "ਕੀ ਮੈਂ ਆਪਣੇ ਜਵਾਬ ਨੂੰ ਹੋਰ ਵੀ ਸੌਖਾ ਕਰ ਸਕਦਾ ਹਾਂ?\n",
      "¿Puedo simplificar mi respuesta?\n"
     ]
    }
   ],
   "source": [
    "text_org=\"¿Puedo simplificar aun más mi respuesta?\"\n",
    "text_trans = abc.translate(text=text_org, dest='pa').text\n",
    "final=abc.translate(text=text_trans, dest='es').text\n",
    "print(text_org)\n",
    "print(text_trans)\n",
    "print(final)"
   ]
  },
  {
   "cell_type": "code",
   "execution_count": 154,
   "metadata": {},
   "outputs": [
    {
     "name": "stdout",
     "output_type": "stream",
     "text": [
      "¿Puedo simplificar aun más mi respuesta?\n",
      "Pot simplifica răspunsul meu și mai mult?\n",
      "¿Puedo simplificar aún más mi respuesta?\n"
     ]
    }
   ],
   "source": [
    "text_org=\"¿Puedo simplificar aun más mi respuesta?\"\n",
    "text_trans = abc.translate(text=text_org, dest='ro').text\n",
    "final=abc.translate(text=text_trans, dest='es').text\n",
    "print(text_org)\n",
    "print(text_trans)\n",
    "print(final)"
   ]
  },
  {
   "cell_type": "code",
   "execution_count": 155,
   "metadata": {},
   "outputs": [
    {
     "name": "stdout",
     "output_type": "stream",
     "text": [
      "¿Puedo simplificar aun más mi respuesta?\n",
      "Могу ли я еще больше упростить свой ответ?\n",
      "¿Puedo simplificar aún más mi respuesta?\n"
     ]
    }
   ],
   "source": [
    "text_org=\"¿Puedo simplificar aun más mi respuesta?\"\n",
    "text_trans = abc.translate(text=text_org, dest='ru').text\n",
    "final=abc.translate(text=text_trans, dest='es').text\n",
    "print(text_org)\n",
    "print(text_trans)\n",
    "print(final)"
   ]
  },
  {
   "cell_type": "code",
   "execution_count": 156,
   "metadata": {},
   "outputs": [
    {
     "name": "stdout",
     "output_type": "stream",
     "text": [
      "¿Puedo simplificar aun más mi respuesta?\n",
      "Mafai ona ou faʻafaigofieina laʻu tali sili atu?\n",
      "¿Puedo simplificar mejor mi respuesta?\n"
     ]
    }
   ],
   "source": [
    "text_org=\"¿Puedo simplificar aun más mi respuesta?\"\n",
    "text_trans = abc.translate(text=text_org, dest='sm').text\n",
    "final=abc.translate(text=text_trans, dest='es').text\n",
    "print(text_org)\n",
    "print(text_trans)\n",
    "print(final)"
   ]
  },
  {
   "cell_type": "code",
   "execution_count": 157,
   "metadata": {},
   "outputs": [
    {
     "name": "stdout",
     "output_type": "stream",
     "text": [
      "¿Puedo simplificar aun más mi respuesta?\n",
      "An urrainn dhomh mo fhreagairt a dhèanamh nas sìmplidh?\n",
      "¿Puedo simplificar mi respuesta?\n"
     ]
    }
   ],
   "source": [
    "text_org=\"¿Puedo simplificar aun más mi respuesta?\"\n",
    "text_trans = abc.translate(text=text_org, dest='gd').text\n",
    "final=abc.translate(text=text_trans, dest='es').text\n",
    "print(text_org)\n",
    "print(text_trans)\n",
    "print(final)"
   ]
  },
  {
   "cell_type": "code",
   "execution_count": 158,
   "metadata": {},
   "outputs": [
    {
     "name": "stdout",
     "output_type": "stream",
     "text": [
      "¿Puedo simplificar aun más mi respuesta?\n",
      "Могу ли још више поједноставити свој одговор?\n",
      "¿Puedo simplificar aún más mi respuesta?\n"
     ]
    }
   ],
   "source": [
    "text_org=\"¿Puedo simplificar aun más mi respuesta?\"\n",
    "text_trans = abc.translate(text=text_org, dest='sr').text\n",
    "final=abc.translate(text=text_trans, dest='es').text\n",
    "print(text_org)\n",
    "print(text_trans)\n",
    "print(final)"
   ]
  },
  {
   "cell_type": "code",
   "execution_count": 159,
   "metadata": {},
   "outputs": [
    {
     "name": "stdout",
     "output_type": "stream",
     "text": [
      "¿Puedo simplificar aun más mi respuesta?\n",
      "Na nka nolofatsa karabo ea ka le ho feta?\n",
      "¿Puedo simplificar aún más mi respuesta?\n"
     ]
    }
   ],
   "source": [
    "text_org=\"¿Puedo simplificar aun más mi respuesta?\"\n",
    "text_trans = abc.translate(text=text_org, dest='st').text\n",
    "final=abc.translate(text=text_trans, dest='es').text\n",
    "print(text_org)\n",
    "print(text_trans)\n",
    "print(final)"
   ]
  },
  {
   "cell_type": "code",
   "execution_count": null,
   "metadata": {},
   "outputs": [],
   "source": []
  }
 ],
 "metadata": {
  "colab": {
   "name": "Ampliación de datos ",
   "provenance": []
  },
  "kernelspec": {
   "display_name": "Python 3",
   "language": "python",
   "name": "python3"
  },
  "language_info": {
   "codemirror_mode": {
    "name": "ipython",
    "version": 3
   },
   "file_extension": ".py",
   "mimetype": "text/x-python",
   "name": "python",
   "nbconvert_exporter": "python",
   "pygments_lexer": "ipython3",
   "version": "3.8.3"
  }
 },
 "nbformat": 4,
 "nbformat_minor": 4
}
